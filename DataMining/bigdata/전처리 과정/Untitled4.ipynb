{
 "cells": [
  {
   "cell_type": "code",
   "execution_count": 25,
   "id": "96553d33",
   "metadata": {},
   "outputs": [
    {
     "ename": "SyntaxError",
     "evalue": "invalid syntax (<ipython-input-25-d0051cb2f191>, line 1)",
     "output_type": "error",
     "traceback": [
      "\u001b[1;36m  File \u001b[1;32m\"<ipython-input-25-d0051cb2f191>\"\u001b[1;36m, line \u001b[1;32m1\u001b[0m\n\u001b[1;33m    void Hanoi(int num,char first,char middle,char last)\u001b[0m\n\u001b[1;37m         ^\u001b[0m\n\u001b[1;31mSyntaxError\u001b[0m\u001b[1;31m:\u001b[0m invalid syntax\n"
     ]
    }
   ],
   "source": [
    "void Hanoi(int num,char first,char middle,char last)\n",
    "{\n",
    "    if (num == 1)\n",
    "        print(\"%d가 %c에서 %c로 이동\",num,first,last);\n",
    "    else \n",
    "    {\n",
    "        Hanoi(n-1,first,last,middle);\n",
    "        print(\"%d가 %c에서 %c로 이동\",num,first,last);\n",
    "        Hanoi(n-1,middle,first,last);\n",
    "    }\n",
    "        \n",
    "}\n",
    "int main(){\n",
    "    Hanoi(3,'a','b','c');\n",
    "}"
   ]
  },
  {
   "cell_type": "code",
   "execution_count": null,
   "id": "5af6fa30",
   "metadata": {},
   "outputs": [],
   "source": []
  },
  {
   "cell_type": "code",
   "execution_count": null,
   "id": "c642f996",
   "metadata": {},
   "outputs": [],
   "source": []
  },
  {
   "cell_type": "code",
   "execution_count": null,
   "id": "52166d29",
   "metadata": {},
   "outputs": [],
   "source": []
  }
 ],
 "metadata": {
  "kernelspec": {
   "display_name": "Python 3",
   "language": "python",
   "name": "python3"
  },
  "language_info": {
   "codemirror_mode": {
    "name": "ipython",
    "version": 3
   },
   "file_extension": ".py",
   "mimetype": "text/x-python",
   "name": "python",
   "nbconvert_exporter": "python",
   "pygments_lexer": "ipython3",
   "version": "3.8.8"
  }
 },
 "nbformat": 4,
 "nbformat_minor": 5
}
