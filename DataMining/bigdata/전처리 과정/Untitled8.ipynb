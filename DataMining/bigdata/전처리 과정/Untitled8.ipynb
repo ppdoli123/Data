{
 "cells": [
  {
   "cell_type": "code",
   "execution_count": null,
   "id": "14863962",
   "metadata": {},
   "outputs": [],
   "source": [
    "from urllib.request import Request,urlopen\n",
    "from urllib.parse import urlencode,quote_plus\n",
    "\n",
    "API_KEY=unquote('_48tr383et8r_43rte9893t8jtj3oobo')\n",
    "url='https://open.jejudatahub.net/api/proxy/5D5a577taba7tbb71at1b1bt9tatata9/{your_projectKey}?{params(key=value)}'\n",
    "queryParams="
   ]
  }
 ],
 "metadata": {
  "kernelspec": {
   "display_name": "Python 3",
   "language": "python",
   "name": "python3"
  },
  "language_info": {
   "codemirror_mode": {
    "name": "ipython",
    "version": 3
   },
   "file_extension": ".py",
   "mimetype": "text/x-python",
   "name": "python",
   "nbconvert_exporter": "python",
   "pygments_lexer": "ipython3",
   "version": "3.8.8"
  }
 },
 "nbformat": 4,
 "nbformat_minor": 5
}
