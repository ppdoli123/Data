{
 "cells": [
  {
   "cell_type": "code",
   "execution_count": 20,
   "id": "4221a941",
   "metadata": {},
   "outputs": [
    {
     "name": "stdout",
     "output_type": "stream",
     "text": [
      "단어를 입력하시오:one\n",
      "하나\n"
     ]
    }
   ],
   "source": [
    "dic={\"one\":\"하나\",\"two\":\"둘\",\"three\":\"셋\"}\n",
    "c=input(\"단어를 입력하시오:\")\n",
    "print(dic[c])"
   ]
  },
  {
   "cell_type": "code",
   "execution_count": null,
   "id": "203c9d39",
   "metadata": {},
   "outputs": [],
   "source": []
  }
 ],
 "metadata": {
  "kernelspec": {
   "display_name": "Python 3",
   "language": "python",
   "name": "python3"
  },
  "language_info": {
   "codemirror_mode": {
    "name": "ipython",
    "version": 3
   },
   "file_extension": ".py",
   "mimetype": "text/x-python",
   "name": "python",
   "nbconvert_exporter": "python",
   "pygments_lexer": "ipython3",
   "version": "3.8.8"
  }
 },
 "nbformat": 4,
 "nbformat_minor": 5
}
